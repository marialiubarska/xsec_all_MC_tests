{
 "cells": [
  {
   "cell_type": "code",
   "execution_count": null,
   "metadata": {},
   "outputs": [],
   "source": [
    "import numpy as np\n",
    "import matplotlib.pyplot as plt\n",
    "%matplotlib inline\n",
    "import pickle, os, sys\n",
    "import matplotlib as mpl\n",
    "from scipy.interpolate import SmoothBivariateSpline\n",
    "from matplotlib.colors import LogNorm, Normalize"
   ]
  },
  {
   "cell_type": "code",
   "execution_count": 2,
   "metadata": {},
   "outputs": [],
   "source": [
    "from get_weight_isoscalar_constant_Emin_50GeV_Q2min1GeV import *"
   ]
  },
  {
   "cell_type": "code",
   "execution_count": 8,
   "metadata": {},
   "outputs": [],
   "source": [
    "# from get_weight_isoscalar_constant_Emin_50GeV import *\n",
    "pth_spl = '../diff_xsec/splines_flat/'\n",
    "wf_nucc = pickle.load(open(pth_spl+'NuMu_CC_flat.pckl','rb'), encoding='latin1') \n",
    "wf_nubarcc = pickle.load(open(pth_spl+'NuMu_Bar_CC_flat.pckl','rb'), encoding='latin1') \n",
    "wf_nunc = pickle.load(open(pth_spl+'NuMu_NC_flat.pckl','rb'), encoding='latin1') \n",
    "wf_nubarnc = pickle.load(open(pth_spl+'NuMu_Bar_NC_flat.pckl','rb'), encoding='latin1') \n",
    "\n",
    "#coef = 0. -- Genie -> Genie\n",
    "#coef = 1. -- Genie -> Nugen\n",
    "def get_weight(E, y, xs_type, coef=1., lgE_min=2.): \n",
    "    \n",
    "    lgE = np.log10(E)\n",
    "    \n",
    "    spl_lgE_reg = np.transpose(np.argwhere(lgE > lgE_min))[0]\n",
    "    ext_lgE_reg = np.transpose(np.argwhere(lgE <= lgE_min))[0]\n",
    "    \n",
    "    w0 = np.ones(len(lgE))\n",
    "    \n",
    "    if xs_type == 'NuCC':\n",
    "        weight_func = wf_nucc\n",
    "    elif xs_type == 'NuBarCC':\n",
    "        weight_func = wf_nubarcc\n",
    "    elif xs_type == 'NuNC':\n",
    "        weight_func = wf_nunc\n",
    "    elif xs_type == 'NuBarNC':\n",
    "        weight_func = wf_nubarnc\n",
    "    else:\n",
    "        print ('specify xs_type correctly!')\n",
    "    \n",
    "    w0[spl_lgE_reg] = weight_func.ev(lgE[spl_lgE_reg],y[spl_lgE_reg])\n",
    "    w0[ext_lgE_reg] = weight_func.ev(w0[ext_lgE_reg]*lgE_min,y[ext_lgE_reg])\n",
    "    w = w0*(1. + (1./w0 - 1)*(1. - coef))\n",
    "    \n",
    "    return w0"
   ]
  },
  {
   "cell_type": "code",
   "execution_count": 9,
   "metadata": {},
   "outputs": [],
   "source": [
    "indir = '/home/mliubar/projects/rpp-kenclark/hignight/atmo_flux'\n",
    "numu = pickle.load(open(os.path.join(indir, 'Level5p_IC86.2013_genie_numu.14600.rlogL.pckl'),'rb'),encoding='latin1')\n",
    "nue = pickle.load(open(os.path.join(indir, 'Level5p_IC86.2013_genie_nue.12600.rlogL.pckl'),'rb'),encoding='latin1')"
   ]
  },
  {
   "cell_type": "code",
   "execution_count": 10,
   "metadata": {},
   "outputs": [],
   "source": [
    "plt.rcParams.update({'font.size': 20})\n",
    "mpl.rcParams['mathtext.fontset'] = 'custom'\n",
    "mpl.rcParams['mathtext.rm'] = 'Bitstream Vera Sans'\n",
    "mpl.rcParams['mathtext.it'] = 'Bitstream Vera Sans:italic'\n",
    "mpl.rcParams['mathtext.bf'] = 'Bitstream Vera Sans:bold'\n",
    "\n",
    "mpl.rcParams['patch.linewidth'] = 2.0\n",
    "mpl.rcParams['lines.linewidth'] = 2.0"
   ]
  },
  {
   "cell_type": "code",
   "execution_count": 11,
   "metadata": {},
   "outputs": [],
   "source": [
    "asp_r = 1./12.*6.\n",
    "\n",
    "left, width = 0.23, 0.85\n",
    "bottom, height = 0.16, 0.75\n",
    "bottom_h = bottom + height + 0.02\n",
    "left_h = left + width + 0.02\n",
    "\n",
    "rect1 = [left*asp_r, bottom-0.2, width, height]\n",
    "rect2 = [left*asp_r, bottom, height, 0.2]"
   ]
  },
  {
   "cell_type": "markdown",
   "metadata": {},
   "source": [
    "# xsec type separation"
   ]
  },
  {
   "cell_type": "code",
   "execution_count": 12,
   "metadata": {},
   "outputs": [],
   "source": [
    "nu = {}\n",
    "for k in numu.keys():\n",
    "    if k == 'weight_e': continue\n",
    "    if k == 'weight_mu': \n",
    "        nu['weight_emu'] = np.concatenate((nue['weight_e'],numu['weight_mu']))\n",
    "        continue\n",
    "    nu[k] = np.concatenate((nue[k],numu[k]))"
   ]
  },
  {
   "cell_type": "code",
   "execution_count": 13,
   "metadata": {},
   "outputs": [],
   "source": [
    "def myargwh(cond):\n",
    "    return np.transpose(np.argwhere(cond))[0]"
   ]
  },
  {
   "cell_type": "code",
   "execution_count": 14,
   "metadata": {},
   "outputs": [],
   "source": [
    "# dis = (np.abs(numu['ma_res']).sum(axis=1) == 0)*(np.abs(numu['ma_qe']).sum(axis=1) == 0)\n",
    "ind0 = myargwh(np.abs(nu['ma_res']).sum(axis=1) == 0)\n",
    "ind1 = myargwh(np.abs(nu['ma_qe'][ind0]).sum(axis=1) == 0)\n",
    "# indQ2 = myargwh(nu['GENIE_Q2s'][ind0[ind1]] > 0.8)\n",
    "dis = ind0[ind1]#[indQ2]]"
   ]
  },
  {
   "cell_type": "code",
   "execution_count": 15,
   "metadata": {},
   "outputs": [],
   "source": [
    "CCdis = dis[myargwh(nu['interaction'][dis]==1.)]\n",
    "NCdis = dis[myargwh(nu['interaction'][dis]==2.)]\n",
    "CCnotdis = ~dis[myargwh(nu['interaction'][~dis]==1.)]\n",
    "NCnotdis = ~dis[myargwh(nu['interaction'][~dis]==2.)]"
   ]
  },
  {
   "cell_type": "code",
   "execution_count": 16,
   "metadata": {},
   "outputs": [],
   "source": [
    "CCdisNu = CCdis[myargwh(nu['ptype'][CCdis]>0)]\n",
    "NCdisNu = NCdis[myargwh(nu['ptype'][NCdis]>0)]\n",
    "CCnotdisNu = CCnotdis[myargwh(nu['ptype'][CCnotdis]>0)]\n",
    "NCnotdisNu = NCnotdis[myargwh(nu['ptype'][NCnotdis]>0)]\n",
    "\n",
    "CCdisNuBar = CCdis[myargwh(nu['ptype'][CCdis]<0)]\n",
    "NCdisNuBar = NCdis[myargwh(nu['ptype'][NCdis]<0)]\n",
    "CCnotdisNuBar = CCnotdis[myargwh(nu['ptype'][CCnotdis]<0)]\n",
    "NCnotdisNuBar = NCnotdis[myargwh(nu['ptype'][NCnotdis]<0)]"
   ]
  },
  {
   "cell_type": "code",
   "execution_count": 17,
   "metadata": {},
   "outputs": [],
   "source": [
    "val = np.log10(nu['energy'])\n",
    "glob_w = nu['weight_emu']"
   ]
  },
  {
   "cell_type": "code",
   "execution_count": 36,
   "metadata": {},
   "outputs": [],
   "source": [
    "# total + differential\n",
    "def get_w(weight=glob_w, nyears=1, \n",
    "          corr={'CCnu':False, 'CCnubar':False, 'NCnu':False, 'NCnubar':False}):\n",
    "    \n",
    "    if nyears == 0:\n",
    "        m = 1.\n",
    "    else:\n",
    "        m = m = 365*24*60.*60.*nyears\n",
    "        \n",
    "    total_xsec_extr = 'constant'\n",
    "    total_xsec_lgE_min = 2.\n",
    "        \n",
    "    wf = np.ones(len(glob_w))\n",
    "    if corr['CCnu']:\n",
    "        wf[CCdisNu] = wf[CCdisNu]*get_weight(nu['energy'][CCdisNu], \n",
    "                                             nu['GENIE_y'][CCdisNu], \n",
    "                                             xs_type='NuCC', \n",
    "                                             coef=1.)\\\n",
    "        *get_weight_iso(nu['energy'][CCdisNu], \n",
    "                        nu='Nu', current='CC', \n",
    "                        ext_type=total_xsec_extr,\n",
    "                        lgE_min_cust=total_xsec_lgE_min)\n",
    "    if corr['CCnubar']:\n",
    "        wf[CCdisNuBar] = wf[CCdisNuBar]*get_weight(nu['energy'][CCdisNuBar], \n",
    "                                             nu['GENIE_y'][CCdisNuBar], \n",
    "                                             xs_type='NuBarCC', \n",
    "                                             coef=1.)\\\n",
    "        *get_weight_iso(nu['energy'][CCdisNuBar], \n",
    "                        nu='NuBar', current='CC', \n",
    "                        ext_type=total_xsec_extr,\n",
    "                        lgE_min_cust=total_xsec_lgE_min)\n",
    "    if corr['NCnu']:\n",
    "        wf[NCdisNu] = wf[NCdisNu]*get_weight(nu['energy'][NCdisNu], \n",
    "                                             nu['GENIE_y'][NCdisNu], \n",
    "                                             xs_type='NuNC', \n",
    "                                             coef=1.)\\\n",
    "        *get_weight_iso(nu['energy'][NCdisNu], \n",
    "                        nu='Nu', current='NC', \n",
    "                        ext_type=total_xsec_extr,\n",
    "                        lgE_min_cust=total_xsec_lgE_min)\n",
    "    if corr['NCnubar']:\n",
    "        wf[NCdisNuBar] = wf[NCdisNuBar]*get_weight(nu['energy'][NCdisNuBar], \n",
    "                                             nu['GENIE_y'][NCdisNuBar], \n",
    "                                             xs_type='NuBarNC', \n",
    "                                             coef=1.)\\\n",
    "       *get_weight_iso(nu['energy'][NCdisNuBar], \n",
    "                       nu='NuBar', current='NC', \n",
    "                       ext_type=total_xsec_extr,\n",
    "                       lgE_min_cust=total_xsec_lgE_min)\n",
    "\n",
    "    wr = weight*m*wf\n",
    "    return wr, m"
   ]
  },
  {
   "cell_type": "code",
   "execution_count": 54,
   "metadata": {},
   "outputs": [],
   "source": [
    "# differential\n",
    "def get_w(weight=glob_w, nyears=1, \n",
    "          corr={'CCnu':False, 'CCnubar':False, 'NCnu':False, 'NCnubar':False}):\n",
    "    \n",
    "    if nyears == 0:\n",
    "        m = 1.\n",
    "    else:\n",
    "        m = m = 365*24*60.*60.*nyears\n",
    "        \n",
    "    total_xsec_extr = 'constant'\n",
    "    total_xsec_lgE_min = 2.\n",
    "        \n",
    "    wf = np.ones(len(glob_w))\n",
    "    if corr['CCnu']:\n",
    "        wf[CCdisNu] = wf[CCdisNu]*get_weight(nu['energy'][CCdisNu], \n",
    "                                             nu['GENIE_y'][CCdisNu], \n",
    "                                             xs_type='NuCC', \n",
    "                                             coef=1.)\n",
    "    if corr['CCnubar']:\n",
    "        wf[CCdisNuBar] = wf[CCdisNuBar]*get_weight(nu['energy'][CCdisNuBar], \n",
    "                                             nu['GENIE_y'][CCdisNuBar], \n",
    "                                             xs_type='NuBarCC', \n",
    "                                             coef=1.)\n",
    "    if corr['NCnu']:\n",
    "        wf[NCdisNu] = wf[NCdisNu]*get_weight(nu['energy'][NCdisNu], \n",
    "                                             nu['GENIE_y'][NCdisNu], \n",
    "                                             xs_type='NuNC', \n",
    "                                             coef=1.)\n",
    "    if corr['NCnubar']:\n",
    "        wf[NCdisNuBar] = wf[NCdisNuBar]*get_weight(nu['energy'][NCdisNuBar], \n",
    "                                             nu['GENIE_y'][NCdisNuBar], \n",
    "                                             xs_type='NuBarNC', \n",
    "                                             coef=1.)\n",
    "\n",
    "    wr = weight*m*wf\n",
    "    return wr, m"
   ]
  },
  {
   "cell_type": "code",
   "execution_count": 31,
   "metadata": {},
   "outputs": [],
   "source": [
    "# total\n",
    "def get_w(weight=glob_w, nyears=1, \n",
    "          corr={'CCnu':False, 'CCnubar':False, 'NCnu':False, 'NCnubar':False}):\n",
    "    \n",
    "    if nyears == 0:\n",
    "        m = 1.\n",
    "    else:\n",
    "        m = m = 365*24*60.*60.*nyears\n",
    "        \n",
    "    total_xsec_extr = 'constant'\n",
    "    total_xsec_lgE_min = 2.\n",
    "        \n",
    "    wf = np.ones(len(glob_w))\n",
    "    if corr['CCnu']:\n",
    "        wf[CCdisNu] = wf[CCdisNu]*get_weight_iso(nu['energy'][CCdisNu], \n",
    "                        nu='Nu', current='CC', \n",
    "                        ext_type=total_xsec_extr,\n",
    "                        lgE_min_cust=total_xsec_lgE_min)\n",
    "    if corr['CCnubar']:\n",
    "        wf[CCdisNuBar] = wf[CCdisNuBar]*get_weight_iso(nu['energy'][CCdisNuBar], \n",
    "                        nu='NuBar', current='CC', \n",
    "                        ext_type=total_xsec_extr,\n",
    "                        lgE_min_cust=total_xsec_lgE_min)\n",
    "    if corr['NCnu']:\n",
    "        wf[NCdisNu] = wf[NCdisNu]*get_weight_iso(nu['energy'][NCdisNu], \n",
    "                        nu='Nu', current='NC', \n",
    "                        ext_type=total_xsec_extr,\n",
    "                        lgE_min_cust=total_xsec_lgE_min)\n",
    "    if corr['NCnubar']:\n",
    "        wf[NCdisNuBar] = wf[NCdisNuBar]*get_weight_iso(nu['energy'][NCdisNuBar], \n",
    "                       nu='NuBar', current='NC', \n",
    "                       ext_type=total_xsec_extr,\n",
    "                       lgE_min_cust=total_xsec_lgE_min)\n",
    "\n",
    "    wr = weight*m*wf\n",
    "    return wr, m"
   ]
  },
  {
   "cell_type": "markdown",
   "metadata": {},
   "source": [
    "# plots"
   ]
  },
  {
   "cell_type": "code",
   "execution_count": 19,
   "metadata": {},
   "outputs": [],
   "source": [
    "save_pth = '/home/mliubar/scratch/diff_xsec_testing_plots_Dec12_flat/'"
   ]
  },
  {
   "cell_type": "code",
   "execution_count": 20,
   "metadata": {},
   "outputs": [],
   "source": [
    "lgE_r = [0., 3.]\n",
    "nb = 20"
   ]
  },
  {
   "cell_type": "code",
   "execution_count": 21,
   "metadata": {},
   "outputs": [],
   "source": [
    "asp_r = 1./12.*6.\n",
    "\n",
    "left, width = 0.33, 0.8\n",
    "bottom, height = 0.12, 0.7\n",
    "bottom_h = bottom + height + 0.02\n",
    "left_h = left + width + 0.02\n",
    "\n",
    "rect1 = [left*asp_r, bottom+0.3, width, height-0.2]\n",
    "rect2 = [left*asp_r, bottom, width, 0.28]"
   ]
  },
  {
   "cell_type": "code",
   "execution_count": null,
   "metadata": {},
   "outputs": [],
   "source": []
  },
  {
   "cell_type": "code",
   "execution_count": null,
   "metadata": {},
   "outputs": [],
   "source": []
  }
 ],
 "metadata": {
  "kernelspec": {
   "display_name": "Python 3",
   "language": "python",
   "name": "python3"
  },
  "language_info": {
   "codemirror_mode": {
    "name": "ipython",
    "version": 3
   },
   "file_extension": ".py",
   "mimetype": "text/x-python",
   "name": "python",
   "nbconvert_exporter": "python",
   "pygments_lexer": "ipython3",
   "version": "3.6.3"
  }
 },
 "nbformat": 4,
 "nbformat_minor": 2
}
