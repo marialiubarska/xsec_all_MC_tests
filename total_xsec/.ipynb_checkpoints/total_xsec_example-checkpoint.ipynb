{
 "cells": [
  {
   "cell_type": "markdown",
   "metadata": {},
   "source": [
    "# starting ..."
   ]
  },
  {
   "cell_type": "code",
   "execution_count": 1,
   "metadata": {},
   "outputs": [],
   "source": [
    "import numpy as np\n",
    "import matplotlib.pyplot as plt\n",
    "import pickle, os, sys\n",
    "import matplotlib as mpl\n",
    "%matplotlib inline"
   ]
  },
  {
   "cell_type": "code",
   "execution_count": 2,
   "metadata": {},
   "outputs": [],
   "source": [
    "plt.rcParams.update({'font.size': 20})\n",
    "mpl.rcParams['mathtext.fontset'] = 'custom'\n",
    "mpl.rcParams['mathtext.rm'] = 'Bitstream Vera Sans'\n",
    "mpl.rcParams['mathtext.it'] = 'Bitstream Vera Sans:italic'\n",
    "mpl.rcParams['mathtext.bf'] = 'Bitstream Vera Sans:bold'\n",
    "\n",
    "mpl.rcParams['patch.linewidth'] = 2.0\n",
    "mpl.rcParams['lines.linewidth'] = 2.0"
   ]
  },
  {
   "cell_type": "code",
   "execution_count": 3,
   "metadata": {},
   "outputs": [],
   "source": [
    "# for selection\n",
    "def myargwh(cond):\n",
    "    return np.transpose(np.argwhere(cond))[0]"
   ]
  },
  {
   "cell_type": "code",
   "execution_count": 4,
   "metadata": {},
   "outputs": [],
   "source": [
    "# loading get_weight_iso_function\n",
    "from get_weight_isoscalar_constant_Emin_50GeV import *"
   ]
  },
  {
   "cell_type": "code",
   "execution_count": 5,
   "metadata": {},
   "outputs": [],
   "source": [
    "# loading oscfit files\n",
    "indir = '/home/mliubar/projects/rpp-kenclark/hignight/atmo_flux'\n",
    "numu = pickle.load(open(os.path.join(indir, 'Level5p_IC86.2013_genie_numu.14600.rlogL.pckl'),'rb'),\n",
    "                   encoding='latin1')\n",
    "nue = pickle.load(open(os.path.join(indir, 'Level5p_IC86.2013_genie_nue.12600.rlogL.pckl'),'rb'),\n",
    "                  encoding='latin1')"
   ]
  },
  {
   "cell_type": "code",
   "execution_count": 6,
   "metadata": {},
   "outputs": [],
   "source": [
    "# plot settings\n",
    "asp_r = 1./12.*6.\n",
    "\n",
    "left, width = 0.33, 0.8\n",
    "bottom, height = 0.12, 0.7\n",
    "bottom_h = bottom + height + 0.02\n",
    "left_h = left + width + 0.02\n",
    "\n",
    "rect1 = [left*asp_r, bottom+0.3, width, height-0.2]\n",
    "rect2 = [left*asp_r, bottom, width, 0.28]"
   ]
  },
  {
   "cell_type": "markdown",
   "metadata": {},
   "source": [
    "# combining nue and numu"
   ]
  },
  {
   "cell_type": "code",
   "execution_count": 7,
   "metadata": {},
   "outputs": [],
   "source": [
    "nu = {}\n",
    "for k in numu.keys():\n",
    "    if k == 'weight_e': continue\n",
    "    if k == 'weight_mu': \n",
    "        nu['weight_emu'] = np.concatenate((nue['weight_e'],numu['weight_mu']))\n",
    "        continue\n",
    "    nu[k] = np.concatenate((nue[k],numu[k]))"
   ]
  },
  {
   "cell_type": "markdown",
   "metadata": {},
   "source": [
    "# declaring global variables"
   ]
  },
  {
   "cell_type": "code",
   "execution_count": 8,
   "metadata": {},
   "outputs": [],
   "source": [
    "# separation by processes\n",
    "ind0 = myargwh(np.abs(nu['ma_res']).sum(axis=1) == 0)\n",
    "ind1 = myargwh(np.abs(nu['ma_qe'][ind0]).sum(axis=1) == 0)\n",
    "dis = ind0[ind1]\n",
    "\n",
    "CCdis = dis[myargwh(nu['interaction'][dis]==1.)]\n",
    "NCdis = dis[myargwh(nu['interaction'][dis]==2.)]\n",
    "\n",
    "CCdisNu = CCdis[myargwh(nu['ptype'][CCdis]>0)]\n",
    "NCdisNu = NCdis[myargwh(nu['ptype'][NCdis]>0)]\n",
    "CCdisNuBar = CCdis[myargwh(nu['ptype'][CCdis]<0)]\n",
    "NCdisNuBar = NCdis[myargwh(nu['ptype'][NCdis]<0)]"
   ]
  },
  {
   "cell_type": "code",
   "execution_count": 9,
   "metadata": {},
   "outputs": [],
   "source": [
    "# other important globals\n",
    "val = np.log10(nu['energy']) # variable used by get_weight_iso() -- in this case true energy\n",
    "glob_w = nu['weight_emu']    # weight which will be used with correction weight"
   ]
  },
  {
   "cell_type": "markdown",
   "metadata": {},
   "source": [
    "# function for obtaining total weights"
   ]
  },
  {
   "cell_type": "markdown",
   "metadata": {},
   "source": [
    "you should use get_w() function with following - default - settings (this will give you constant extrapolation from 100 GeV with correction applied on all DIS events):\n",
    "\n",
    "corr={'CCnu':True, 'CCnubar':True, 'NCnu':True, 'NCnubar':True}, \\\n",
    "extr='constant' \\\n",
    "lgE_min_cust=2."
   ]
  },
  {
   "cell_type": "code",
   "execution_count": 10,
   "metadata": {},
   "outputs": [],
   "source": [
    "def get_w(true_en=nu['energy'],                   # true energy\n",
    "          weight=glob_w,                          # previous weight which needs to be applied to data\n",
    "          CCdisNu=CCdisNu, CCdisNuBar=CCdisNuBar, # indexes for DIS Nu CC and DIS NuBar CC\n",
    "          NCdisNu=NCdisNu, NCdisNuBar=NCdisNuBar, # indexes for DIS Nu NC and DIS NuBar nC\n",
    "          corr={'CCnu':True, 'CCnubar':True, 'NCnu':True, 'NCnubar':True}, # switches for weighting\n",
    "          extr='constant',                        # extrapolation type ['constant' or 'linear']\n",
    "          nyears=1,                               # number of years to scale\n",
    "          lgE_min_cust=2.):                       # starting point for constant extrapolations\n",
    "    \n",
    "    # scaling by years\n",
    "    if nyears == 0:\n",
    "        m = 1.\n",
    "    else:\n",
    "        m = 365*24*60.*60.*nyears\n",
    "        \n",
    "    # calculating weights related to corrections\n",
    "    wf = np.ones(len(glob_w))\n",
    "    if corr['CCnu']:\n",
    "        wf[CCdisNu] = wf[CCdisNu]*get_weight_iso(true_en[CCdisNu], \n",
    "                                                 nu='Nu', current='CC', \n",
    "                                                 ext_type=extr,\n",
    "                                                 lgE_min_cust=lgE_min_cust)\n",
    "    if corr['CCnubar']:\n",
    "        wf[CCdisNuBar] = wf[CCdisNuBar]*get_weight_iso(true_en[CCdisNuBar], \n",
    "                                                 nu='NuBar', current='CC', \n",
    "                                                 ext_type=extr,\n",
    "                                                 lgE_min_cust=lgE_min_cust)\n",
    "    if corr['NCnu']:\n",
    "        wf[NCdisNu] = wf[NCdisNu]*get_weight_iso(true_en[NCdisNu], \n",
    "                                                 nu='Nu', current='NC', \n",
    "                                                 ext_type=extr,\n",
    "                                                 lgE_min_cust=lgE_min_cust)\n",
    "    if corr['NCnubar']:\n",
    "        wf[NCdisNuBar] = wf[NCdisNuBar]*get_weight_iso(true_en[NCdisNuBar], \n",
    "                                                 nu='NuBar', current='NC', \n",
    "                                                 ext_type=extr,\n",
    "                                                 lgE_min_cust=lgE_min_cust)\n",
    "    \n",
    "    # returning total weight (with previous weights, lifetime and corrections included)\n",
    "    wr = weight*m*wf\n",
    "    return wr, m"
   ]
  },
  {
   "cell_type": "markdown",
   "metadata": {},
   "source": [
    "# plots -- example usage"
   ]
  },
  {
   "cell_type": "code",
   "execution_count": 11,
   "metadata": {},
   "outputs": [],
   "source": [
    "# global path for saving plots\n",
    "save_pth = '/home/mliubar/scratch/total_xsec_testing_plots_Nov10/'"
   ]
  },
  {
   "cell_type": "code",
   "execution_count": 12,
   "metadata": {},
   "outputs": [],
   "source": [
    "lgE_r = [0., 3.]\n",
    "nb = 20"
   ]
  },
  {
   "cell_type": "code",
   "execution_count": 13,
   "metadata": {},
   "outputs": [],
   "source": [
    "def plot_true_en(corr={'CCnu':True, 'CCnubar':True, 'NCnu':True, 'NCnubar':True}, \n",
    "                title='all corrections applied'):\n",
    "    fig = plt.figure(1, figsize=(9, 7))\n",
    "    ax = plt.axes(rect1)\n",
    "\n",
    "    ax.set_xlim(0.,3.)\n",
    "    ax.set_title(title)\n",
    "    ax.set_ylabel('events / year')\n",
    "    plt.xticks(visible=False)\n",
    "\n",
    "    # this is part where I'm calculating weights\n",
    "    w0, m  = get_w(nyears=1., \n",
    "                   corr={'CCnu':False, 'CCnubar':False, 'NCnu':False, 'NCnubar':False})\n",
    "    wcorr_c100, _ = get_w(nyears=1., \n",
    "                  corr=corr, \\\n",
    "                  extr='constant',\n",
    "                  lgE_min_cust=2.0)\n",
    "\n",
    "\n",
    "    h0, be = np.histogram(val, nb, lgE_r, \n",
    "                            weights=w0)\n",
    "    hc100, be = np.histogram(val, nb, lgE_r, \n",
    "                                weights=wcorr_c100)\n",
    "    \n",
    "    hc100 = hc100/np.sum(hc100)*np.sum(h0)\n",
    "    \n",
    "    ax.step(be, np.concatenate(([h0[0]],h0)), color='r', linestyle='-',\n",
    "            label='not corr.')    \n",
    "    ax.step(be, np.concatenate(([hc100[0]],hc100)), color='orange', linestyle='--',\n",
    "            label='constant extr. \\nfrom 100 GeV')\n",
    "\n",
    "    plt.grid(alpha=0.2)\n",
    "    ax.axvline(1.68, c='k')\n",
    "    plt.legend(fontsize=15)\n",
    "    \n",
    "    ax2 = plt.axes(rect2)\n",
    "\n",
    "    ax2.set_xlim(0.,3.)\n",
    "    ax2.set_ylim(-1.2, 1.2)\n",
    "    ax2.set_yticks([-1., 0., 1.])\n",
    "    ax2.set_xlabel(r'$\\mathrm{log10({\\bf E_{true}} / GeV)}$')\n",
    "    ax2.set_ylabel(r'$\\mathrm{\\frac{(N_{corr} - N_0)}{\\sqrt{N_0}}}$')\n",
    "    sigma0 = np.sqrt(h0)\n",
    "\n",
    "    ax2.step(be, np.concatenate(([0.],(h0-h0))), color='r', linestyle='-')\n",
    "    ax2.step(be, np.concatenate(([(hc100-h0)[0]/sigma0[0]],(hc100-h0)/sigma0)), color='orange', linestyle='--')\n",
    "\n",
    "    plt.grid(alpha=0.2)\n",
    "    ax2.axvline(1.68, c='k')\n",
    "    \n",
    "    save_name = title.replace(' ', '_') + '_true_E'\n",
    "    plt.savefig(save_pth+save_name+'.png', dpi='figure')\n",
    "    plt.savefig(save_pth+save_name+'.pdf', dpi='figure')\n",
    "    \n",
    "    plt.show()\n",
    "    \n",
    "    return 0"
   ]
  },
  {
   "cell_type": "code",
   "execution_count": 14,
   "metadata": {},
   "outputs": [
    {
     "name": "stderr",
     "output_type": "stream",
     "text": [
      "/home/mliubar/myjupyter_py3/lib/python3.6/site-packages/matplotlib/font_manager.py:1241: UserWarning: findfont: Font family ['cursive'] not found. Falling back to DejaVu Sans.\n",
      "  (prop.get_family(), self.defaultFamily[fontext]))\n",
      "/home/mliubar/myjupyter_py3/lib/python3.6/site-packages/matplotlib/font_manager.py:1241: UserWarning: findfont: Font family ['Bitstream Vera Sans'] not found. Falling back to DejaVu Sans.\n",
      "  (prop.get_family(), self.defaultFamily[fontext]))\n"
     ]
    },
    {
     "data": {
      "image/png": "[encoded data removed]",
      "text/plain": [
       "<Figure size 648x504 with 2 Axes>"
      ]
     },
     "metadata": {
      "needs_background": "light"
     },
     "output_type": "display_data"
    },
    {
     "data": {
      "text/plain": [
       "0"
      ]
     },
     "execution_count": 14,
     "metadata": {},
     "output_type": "execute_result"
    }
   ],
   "source": [
    "plot_true_en(corr={'CCnu':True, 'CCnubar':True, 'NCnu':True, 'NCnubar':True}, \n",
    "                title='all corrections applied')"
   ]
  },
  {
   "cell_type": "code",
   "execution_count": null,
   "metadata": {},
   "outputs": [],
   "source": []
  }
 ],
 "metadata": {
  "kernelspec": {
   "display_name": "Python 3",
   "language": "python",
   "name": "python3"
  },
  "language_info": {
   "codemirror_mode": {
    "name": "ipython",
    "version": 3
   },
   "file_extension": ".py",
   "mimetype": "text/x-python",
   "name": "python",
   "nbconvert_exporter": "python",
   "pygments_lexer": "ipython3",
   "version": "3.6.3"
  }
 },
 "nbformat": 4,
 "nbformat_minor": 2
}
